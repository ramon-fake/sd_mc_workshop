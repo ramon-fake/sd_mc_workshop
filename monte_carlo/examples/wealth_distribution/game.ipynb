{
 "cells": [
  {
   "cell_type": "code",
   "execution_count": 1,
   "id": "9d8b92c1",
   "metadata": {
    "scrolled": true
   },
   "outputs": [
    {
     "data": {
      "application/vnd.jupyter.widget-view+json": {
       "model_id": "260d60467da04755ac5a2e467844b784",
       "version_major": 2,
       "version_minor": 0
      },
      "text/plain": [
       "Button(description='Start Simulation', style=ButtonStyle())"
      ]
     },
     "metadata": {},
     "output_type": "display_data"
    },
    {
     "data": {
      "application/vnd.jupyter.widget-view+json": {
       "model_id": "012c02c098c1496e9c83f642b33039da",
       "version_major": 2,
       "version_minor": 0
      },
      "text/plain": [
       "Output()"
      ]
     },
     "metadata": {},
     "output_type": "display_data"
    }
   ],
   "source": [
    "import numpy as np\n",
    "import matplotlib.pyplot as plt\n",
    "import ipywidgets as widgets\n",
    "from IPython.display import display, clear_output\n",
    "\n",
    "# Simulation function\n",
    "def wealth_distribution_simulation(population_size, initial_wealth, num_iterations, wealth):\n",
    "    for _ in range(num_iterations):\n",
    "        # Pick two individuals\n",
    "        person1, person2 = np.random.choice(population_size, 2, replace=False)\n",
    "\n",
    "        # Determine the exchange amount\n",
    "        exchange_amount = 150 \n",
    "        \n",
    "        coin_flip = np.random.randint(2)\n",
    "        if coin_flip == 0:\n",
    "            # If person2 has zero wealth and loses, the transaction doesn't occur\n",
    "            if wealth[person2] == 0:\n",
    "                continue\n",
    "\n",
    "            # Ensure person2 has enough money for the exchange\n",
    "            actual_exchange = min(exchange_amount, wealth[person2])\n",
    "            wealth[person1] += actual_exchange\n",
    "            wealth[person2] -= actual_exchange\n",
    "        else:\n",
    "            # If person1 has zero wealth and loses, the transaction doesn't occur\n",
    "            if wealth[person1] == 0:\n",
    "                continue\n",
    "\n",
    "            # Ensure person1 has enough money for the exchange\n",
    "            actual_exchange = min(exchange_amount, wealth[person1])\n",
    "            wealth[person1] -= actual_exchange\n",
    "            wealth[person2] += actual_exchange\n",
    "    return wealth\n",
    "\n",
    "# Parameters\n",
    "population_size = 5000\n",
    "initial_wealth = 1000\n",
    "num_iterations_per_update = 120\n",
    "total_updates = 1000\n",
    "\n",
    "# Create an output widget to display the simulation\n",
    "output = widgets.Output()\n",
    "\n",
    "# Button to start the simulation\n",
    "button = widgets.Button(description=\"Start Simulation\")\n",
    "display(button, output)\n",
    "\n",
    "def on_button_click(b):\n",
    "    wealth = np.full(population_size, initial_wealth)\n",
    "    plt.figure(figsize=(10,6))\n",
    "    for i in range(total_updates):\n",
    "        wealth = wealth_distribution_simulation(population_size, initial_wealth, num_iterations_per_update, wealth)\n",
    "        \n",
    "        plt.hist(wealth, bins=range(0, 8*initial_wealth + 150, 150), align='left', density=False)\n",
    "        \n",
    "        plt.title('Wealth Distribution after {} Iterations'.format((i+1)*num_iterations_per_update))\n",
    "        plt.xlabel('Wealth ($)')\n",
    "        plt.ylabel('Number of People')\n",
    "        plt.grid(True, which='both', linestyle='--', linewidth=0.5)\n",
    "        plt.tight_layout()\n",
    "        with output:\n",
    "            clear_output(wait=True)\n",
    "            plt.show()\n",
    "\n",
    "button.on_click(on_button_click)\n",
    "\n",
    "\n"
   ]
  },
  {
   "cell_type": "code",
   "execution_count": null,
   "id": "6e42eb4c",
   "metadata": {},
   "outputs": [],
   "source": []
  }
 ],
 "metadata": {
  "kernelspec": {
   "display_name": "Python 3 (ipykernel)",
   "language": "python",
   "name": "python3"
  },
  "language_info": {
   "codemirror_mode": {
    "name": "ipython",
    "version": 3
   },
   "file_extension": ".py",
   "mimetype": "text/x-python",
   "name": "python",
   "nbconvert_exporter": "python",
   "pygments_lexer": "ipython3",
   "version": "3.9.7"
  }
 },
 "nbformat": 4,
 "nbformat_minor": 5
}
